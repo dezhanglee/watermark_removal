{
 "cells": [
  {
   "cell_type": "code",
   "execution_count": 1,
   "id": "fe7bf26c-78a6-4316-8515-0bb80ddddfb9",
   "metadata": {},
   "outputs": [],
   "source": [
    "import shutil\n",
    "\n",
    "src_dirs = [\"prc_num_2499_steps_50_fpr_0.1_nowm_0_eps_10.0_attack_stealthy_mess_len_2000_inversion_null_model_stabilityai_stable-diffusion-2-1-base/original_images/\",\n",
    "       \"prc_num_2500_steps_50_fpr_0.1_nowm_0_eps_10.0_attack_stealthy_mess_len_2000_inversion_null_model_stabilityai_stable-diffusion-2-1-base/original_images/\",\n",
    "       \"prc_num_2501_steps_50_fpr_0.1_nowm_0_eps_10.0_attack_stealthy_mess_len_2000_inversion_null_model_stabilityai_stable-diffusion-2-1-base/original_images/\",\n",
    "       \"prc_num_2510_steps_50_fpr_0.1_nowm_0_eps_10.0_attack_stealthy_mess_len_2000_inversion_null_model_stabilityai_stable-diffusion-2-1-base/original_images/\"]\n",
    "dst_dirs = \"prc_all/images/\""
   ]
  },
  {
   "cell_type": "code",
   "execution_count": 2,
   "id": "b4155dfe-59d3-4f14-ab51-4c4b99ce4d2c",
   "metadata": {},
   "outputs": [],
   "source": [
    "check_png = lambda x: x[-4:] == \".png\"\n",
    "is_base = lambda x: len(x.split(\"_\"))==1"
   ]
  },
  {
   "cell_type": "code",
   "execution_count": 9,
   "id": "aeb3ef9a-a772-44a1-be12-4a9ce159411c",
   "metadata": {},
   "outputs": [
    {
     "ename": "FileNotFoundError",
     "evalue": "[Errno 2] No such file or directory: 'prc_num_2499_steps_50_fpr_0.1_nowm_0_eps_10.0_attack_stealthy_mess_len_2000_inversion_null_model_stabilityai_stable-diffusion-2-1-base/original_images/0_remove_stealthy_mse_0.002105357908185103_ssim_0.8746001053647623.png'",
     "output_type": "error",
     "traceback": [
      "\u001b[1;31m---------------------------------------------------------------------------\u001b[0m",
      "\u001b[1;31mFileNotFoundError\u001b[0m                         Traceback (most recent call last)",
      "Cell \u001b[1;32mIn[9], line 21\u001b[0m\n\u001b[0;32m     19\u001b[0m \u001b[38;5;66;03m# copy file over\u001b[39;00m\n\u001b[0;32m     20\u001b[0m shutil\u001b[38;5;241m.\u001b[39mcopyfile(\u001b[38;5;124mf\u001b[39m\u001b[38;5;124m\"\u001b[39m\u001b[38;5;132;01m{\u001b[39;00mdirs\u001b[38;5;132;01m}\u001b[39;00m\u001b[38;5;132;01m{\u001b[39;00mbase_fname\u001b[38;5;132;01m}\u001b[39;00m\u001b[38;5;124m\"\u001b[39m, \u001b[38;5;124mf\u001b[39m\u001b[38;5;124m\"\u001b[39m\u001b[38;5;132;01m{\u001b[39;00mdst_dirs\u001b[38;5;132;01m}\u001b[39;00m\u001b[38;5;132;01m{\u001b[39;00mnew_base_fname\u001b[38;5;132;01m}\u001b[39;00m\u001b[38;5;124m\"\u001b[39m) \n\u001b[1;32m---> 21\u001b[0m \u001b[43mshutil\u001b[49m\u001b[38;5;241;43m.\u001b[39;49m\u001b[43mcopyfile\u001b[49m\u001b[43m(\u001b[49m\u001b[38;5;124;43mf\u001b[39;49m\u001b[38;5;124;43m\"\u001b[39;49m\u001b[38;5;132;43;01m{\u001b[39;49;00m\u001b[43mdirs\u001b[49m\u001b[38;5;132;43;01m}\u001b[39;49;00m\u001b[38;5;132;43;01m{\u001b[39;49;00m\u001b[43mattacked_fname\u001b[49m\u001b[38;5;132;43;01m}\u001b[39;49;00m\u001b[38;5;124;43m\"\u001b[39;49m\u001b[43m,\u001b[49m\u001b[43m \u001b[49m\u001b[38;5;124;43mf\u001b[39;49m\u001b[38;5;124;43m\"\u001b[39;49m\u001b[38;5;132;43;01m{\u001b[39;49;00m\u001b[43mdst_dirs\u001b[49m\u001b[38;5;132;43;01m}\u001b[39;49;00m\u001b[38;5;132;43;01m{\u001b[39;49;00m\u001b[43mnew_attacked_fname\u001b[49m\u001b[38;5;132;43;01m}\u001b[39;49;00m\u001b[38;5;124;43m\"\u001b[39;49m\u001b[43m)\u001b[49m \n",
      "File \u001b[1;32mC:\\Program Files\\WindowsApps\\PythonSoftwareFoundation.Python.3.12_3.12.2800.0_x64__qbz5n2kfra8p0\\Lib\\shutil.py:260\u001b[0m, in \u001b[0;36mcopyfile\u001b[1;34m(src, dst, follow_symlinks)\u001b[0m\n\u001b[0;32m    258\u001b[0m     os\u001b[38;5;241m.\u001b[39msymlink(os\u001b[38;5;241m.\u001b[39mreadlink(src), dst)\n\u001b[0;32m    259\u001b[0m \u001b[38;5;28;01melse\u001b[39;00m:\n\u001b[1;32m--> 260\u001b[0m     \u001b[38;5;28;01mwith\u001b[39;00m \u001b[38;5;28;43mopen\u001b[39;49m\u001b[43m(\u001b[49m\u001b[43msrc\u001b[49m\u001b[43m,\u001b[49m\u001b[43m \u001b[49m\u001b[38;5;124;43m'\u001b[39;49m\u001b[38;5;124;43mrb\u001b[39;49m\u001b[38;5;124;43m'\u001b[39;49m\u001b[43m)\u001b[49m \u001b[38;5;28;01mas\u001b[39;00m fsrc:\n\u001b[0;32m    261\u001b[0m         \u001b[38;5;28;01mtry\u001b[39;00m:\n\u001b[0;32m    262\u001b[0m             \u001b[38;5;28;01mwith\u001b[39;00m \u001b[38;5;28mopen\u001b[39m(dst, \u001b[38;5;124m'\u001b[39m\u001b[38;5;124mwb\u001b[39m\u001b[38;5;124m'\u001b[39m) \u001b[38;5;28;01mas\u001b[39;00m fdst:\n\u001b[0;32m    263\u001b[0m                 \u001b[38;5;66;03m# macOS\u001b[39;00m\n",
      "\u001b[1;31mFileNotFoundError\u001b[0m: [Errno 2] No such file or directory: 'prc_num_2499_steps_50_fpr_0.1_nowm_0_eps_10.0_attack_stealthy_mess_len_2000_inversion_null_model_stabilityai_stable-diffusion-2-1-base/original_images/0_remove_stealthy_mse_0.002105357908185103_ssim_0.8746001053647623.png'"
     ]
    }
   ],
   "source": [
    "ctr = 0\n",
    "import os\n",
    "for dirs in src_dirs:\n",
    "    for fname in os.listdir(dirs):\n",
    "        \n",
    "        if check_png(fname) and not is_base(fname):\n",
    "            nn = fname[:-4].split(\"_\")\n",
    "            img_id = nn[0]\n",
    "            mse = nn[4]\n",
    "            ssim = nn[6]\n",
    "\n",
    "            base_fname = f\"{img_id}.png\"\n",
    "            new_base_fname = f\"{ctr}.png\"\n",
    "            attacked_fname = fname\n",
    "            new_attacked_fname = f\"{ctr}_mse_{mse}_ssim_{ssim}.png\"\n",
    "\n",
    "            ctr += 1\n",
    "\n",
    "            # copy file over\n",
    "            shutil.copyfile(f\"{dirs}{base_fname}\", f\"{dst_dirs}{new_base_fname}\") \n",
    "            shutil.copyfile(f\"{dirs}{attacked_fname}\", f\"{dst_dirs}{new_attacked_fname}\") \n",
    "            \n",
    "        \n",
    "        "
   ]
  },
  {
   "cell_type": "code",
   "execution_count": 10,
   "id": "0c334fa9-3ab8-4444-9782-2cfc1778e7b6",
   "metadata": {},
   "outputs": [
    {
     "data": {
      "text/plain": [
       "'prc_num_2499_steps_50_fpr_0.1_nowm_0_eps_10.0_attack_stealthy_mess_len_2000_inversion_null_model_stabilityai_stable-diffusion-2-1-base/original_images/0_remove_stealthy_mse_0.002105357908185103_ssim_0.8746001053647623.png'"
      ]
     },
     "execution_count": 10,
     "metadata": {},
     "output_type": "execute_result"
    }
   ],
   "source": [
    "f\"{dirs}{attacked_fname}\""
   ]
  },
  {
   "cell_type": "code",
   "execution_count": 12,
   "id": "5f7ed082-94fd-44d1-99c0-769ddb3b303f",
   "metadata": {},
   "outputs": [
    {
     "ename": "FileNotFoundError",
     "evalue": "[WinError 3] The system cannot find the path specified: 'prc_num_2499_steps_50_fpr_0.1_nowm_0_eps_10.0_attack_stealthy_mess_len_2000_inversion_null_model_stabilityai_stable-diffusion-2-1-base/original_images/0_remove_stealthy_mse_0.002105357908185103_ssim_0.8746001053647623.png'",
     "output_type": "error",
     "traceback": [
      "\u001b[1;31m---------------------------------------------------------------------------\u001b[0m",
      "\u001b[1;31mFileNotFoundError\u001b[0m                         Traceback (most recent call last)",
      "Cell \u001b[1;32mIn[12], line 1\u001b[0m\n\u001b[1;32m----> 1\u001b[0m \u001b[43mos\u001b[49m\u001b[38;5;241;43m.\u001b[39;49m\u001b[43mlistdir\u001b[49m\u001b[43m(\u001b[49m\u001b[43m \u001b[49m\u001b[38;5;124;43m'\u001b[39;49m\u001b[38;5;124;43mprc_num_2499_steps_50_fpr_0.1_nowm_0_eps_10.0_attack_stealthy_mess_len_2000_inversion_null_model_stabilityai_stable-diffusion-2-1-base/original_images/0_remove_stealthy_mse_0.002105357908185103_ssim_0.8746001053647623.png\u001b[39;49m\u001b[38;5;124;43m'\u001b[39;49m\u001b[43m)\u001b[49m\n",
      "\u001b[1;31mFileNotFoundError\u001b[0m: [WinError 3] The system cannot find the path specified: 'prc_num_2499_steps_50_fpr_0.1_nowm_0_eps_10.0_attack_stealthy_mess_len_2000_inversion_null_model_stabilityai_stable-diffusion-2-1-base/original_images/0_remove_stealthy_mse_0.002105357908185103_ssim_0.8746001053647623.png'"
     ]
    }
   ],
   "source": [
    "os.listdir( 'prc_num_2499_steps_50_fpr_0.1_nowm_0_eps_10.0_attack_stealthy_mess_len_2000_inversion_null_model_stabilityai_stable-diffusion-2-1-base/original_images/0_remove_stealthy_mse_0.002105357908185103_ssim_0.8746001053647623.png')"
   ]
  },
  {
   "cell_type": "code",
   "execution_count": null,
   "id": "209c709c-8225-4262-8c25-e2dabfd3c233",
   "metadata": {},
   "outputs": [],
   "source": []
  }
 ],
 "metadata": {
  "kernelspec": {
   "display_name": "Python 3 (ipykernel)",
   "language": "python",
   "name": "python3"
  },
  "language_info": {
   "codemirror_mode": {
    "name": "ipython",
    "version": 3
   },
   "file_extension": ".py",
   "mimetype": "text/x-python",
   "name": "python",
   "nbconvert_exporter": "python",
   "pygments_lexer": "ipython3",
   "version": "3.12.10"
  }
 },
 "nbformat": 4,
 "nbformat_minor": 5
}
